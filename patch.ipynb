{
 "cells": [
  {
   "cell_type": "markdown",
   "id": "0",
   "metadata": {
    "editable": true,
    "slideshow": {
     "slide_type": ""
    },
    "tags": []
   },
   "source": [
    "# Patch Basics\n",
    "\n",
    "\n",
    "This notebook shows how to work with DASCore's [`Patch`](https://dascore.org/api/dascore/core/patch/Patch.html). It is a shortened version of the [DASCore's Patch tutorial](https://dascore.org/tutorial/patch.html). "
   ]
  },
  {
   "cell_type": "code",
   "execution_count": null,
   "id": "1",
   "metadata": {
    "editable": true,
    "slideshow": {
     "slide_type": ""
    },
    "tags": []
   },
   "outputs": [],
   "source": [
    "%%capture\n",
    "\n",
    "# First ensure DASCore is installed. If not, install and restart the kernel.\n",
    "try:\n",
    "    import dascore as dc\n",
    "except ImportError:\n",
    "    !pip install dascore\n",
    "    !pip install ipympl\n",
    "    # resetart kernel\n",
    "    import IPython\n",
    "    IPython.Application.instance().kernel.do_shutdown(True) #automatically restarts kernel\n",
    "\n",
    "\n",
    "import numpy as np\n",
    "from rich import print"
   ]
  },
  {
   "cell_type": "markdown",
   "id": "2",
   "metadata": {
    "editable": true,
    "slideshow": {
     "slide_type": ""
    },
    "tags": []
   },
   "source": [
    "# [Patch](https://dascore.org/tutorial/patch.html) \n",
    "\n",
    "To demonstrate the patch, we use an example seismic event recorded shown in [this study](https://www.frontiersin.org/journals/earth-science/articles/10.3389/feart.2022.907749/full).\n",
    "\n",
    "The `Patch` is composed of:\n",
    "- `coords`: the coordinates of each dimension (e.g. coord range, step, units)\n",
    "- `data`: the array of measurements\n",
    "- `attrs`: the non-coordinate metadata (e.g. cable id)\n",
    "- `dims`: a tuple of dimension names (e.g. distance, frequency)\n",
    "\n",
    "The `Patch` object is *immutable* which means that once a patch is created it cannot (easily) be changed. This makes it safe to share compontents between patches and simplifies parallel processing. "
   ]
  },
  {
   "cell_type": "code",
   "execution_count": null,
   "id": "4",
   "metadata": {
    "editable": true,
    "slideshow": {
     "slide_type": ""
    },
    "tags": []
   },
   "outputs": [],
   "source": [
    "# The get_example_patch function is useful for loading example/test patches.\n",
    "patch = dc.get_example_patch(\"example_event_1\")\n"
   ]
  },
  {
   "cell_type": "code",
   "execution_count": null,
   "id": "5",
   "metadata": {},
   "outputs": [],
   "source": [
    "# Display the string representation of the patch object:\n",
    "print(patch)"
   ]
  },
  {
   "cell_type": "markdown",
   "id": "6",
   "metadata": {
    "editable": true,
    "slideshow": {
     "slide_type": ""
    },
    "tags": []
   },
   "source": [
    "## `Patch` Components: Data and Dims\n",
    "\n",
    "The data array can be accessed with `data` and updated with [`Patch.update`](https://dascore.org/tutorial/patch.html#update)"
   ]
  },
  {
   "cell_type": "code",
   "execution_count": null,
   "id": "7",
   "metadata": {
    "editable": true,
    "slideshow": {
     "slide_type": ""
    },
    "tags": []
   },
   "outputs": [],
   "source": [
    "# Get the data array\n",
    "array = patch.data"
   ]
  },
  {
   "cell_type": "code",
   "execution_count": null,
   "id": "8",
   "metadata": {
    "editable": true,
    "slideshow": {
     "slide_type": ""
    },
    "tags": []
   },
   "outputs": [],
   "source": [
    "# Divide the data by 1_000_000 and create a new patch.\n",
    "patch_new_data = patch.update(data=array / 1_000_000)"
   ]
  },
  {
   "cell_type": "markdown",
   "id": "9",
   "metadata": {
    "editable": true,
    "slideshow": {
     "slide_type": ""
    },
    "tags": []
   },
   "source": [
    "The dimensions are accessed via the `dims` attribute."
   ]
  },
  {
   "cell_type": "code",
   "execution_count": null,
   "id": "10",
   "metadata": {
    "editable": true,
    "slideshow": {
     "slide_type": ""
    },
    "tags": []
   },
   "outputs": [],
   "source": [
    "print(patch.dims)"
   ]
  },
  {
   "cell_type": "markdown",
   "id": "11",
   "metadata": {
    "editable": true,
    "slideshow": {
     "slide_type": ""
    },
    "tags": []
   },
   "source": [
    "### **Exercise** (`Patch` Data)\n",
    "\n",
    "Calculate and print following:\n",
    "\n",
    "1. The number of samples in the data\n",
    "2. The minimum and maximum value of the data"
   ]
  },
  {
   "cell_type": "code",
   "execution_count": null,
   "id": "993d6e82-9af3-4af0-b74b-2a646d938845",
   "metadata": {},
   "outputs": [],
   "source": [
    "# Exercise (Patch Data)\n"
   ]
  },
  {
   "cell_type": "markdown",
   "id": "13",
   "metadata": {
    "editable": true,
    "slideshow": {
     "slide_type": ""
    },
    "tags": []
   },
   "source": [
    "## Patch Components: Attrs\n",
    "Attrs contain non-dimensional metdata. Acquisition/interrogator identifiers, custom tags, etc.\n"
   ]
  },
  {
   "cell_type": "code",
   "execution_count": null,
   "id": "14",
   "metadata": {
    "editable": true,
    "slideshow": {
     "slide_type": ""
    },
    "tags": []
   },
   "outputs": [],
   "source": [
    "print(patch.attrs)"
   ]
  },
  {
   "cell_type": "markdown",
   "id": "15",
   "metadata": {},
   "source": [
    "Notice the `acquisition_id` and `cable_id` are not set. We could set or update `Attrs` like so: "
   ]
  },
  {
   "cell_type": "code",
   "execution_count": null,
   "id": "16",
   "metadata": {
    "editable": true,
    "slideshow": {
     "slide_type": ""
    },
    "tags": []
   },
   "outputs": [],
   "source": [
    "patch_updated_attrs = patch.update_attrs(\n",
    "    acquisition_id=\"experiment_12\",\n",
    "    cable_id=\"b202393ad\",\n",
    ")\n",
    "print(patch_updated_attrs)"
   ]
  },
  {
   "cell_type": "markdown",
   "id": "18",
   "metadata": {
    "editable": true,
    "slideshow": {
     "slide_type": ""
    },
    "tags": []
   },
   "source": [
    "### **Exercise** (`Patch` Attrs)\n",
    "Do the following:\n",
    "\n",
    "1. Print the `cable_id` from the patch with updated attrs.\n",
    "2. Create a new patch with a `station name` of \"DAS1\"."
   ]
  },
  {
   "cell_type": "code",
   "execution_count": null,
   "id": "d7350a33-5905-46d4-b69c-83aa6fe9fa81",
   "metadata": {},
   "outputs": [],
   "source": [
    "# Exercise (Patch Attrs)\n"
   ]
  },
  {
   "cell_type": "markdown",
   "id": "20",
   "metadata": {
    "editable": true,
    "slideshow": {
     "slide_type": ""
    },
    "tags": []
   },
   "source": [
    "## Patch Components: Coords\n",
    "\n",
    "`Coords` represent information about the coordinates (not coordinate systems) associated with a patch. These include, but aren't limited to, the dimensions such as 'time' and 'distance'.\n"
   ]
  },
  {
   "cell_type": "code",
   "execution_count": null,
   "id": "21",
   "metadata": {
    "editable": true,
    "slideshow": {
     "slide_type": ""
    },
    "tags": []
   },
   "outputs": [],
   "source": [
    "print(patch.coords) # The coordinates and their labels. "
   ]
  },
  {
   "cell_type": "markdown",
   "id": "22",
   "metadata": {
    "editable": true,
    "slideshow": {
     "slide_type": ""
    },
    "tags": []
   },
   "source": [
    "`Coords` objects can be accessed with [`Patch.get_coord`](https://dascore.org/api/dascore/proc/coords/get_coord.html). "
   ]
  },
  {
   "cell_type": "code",
   "execution_count": null,
   "id": "23",
   "metadata": {
    "editable": true,
    "slideshow": {
     "slide_type": ""
    },
    "tags": []
   },
   "outputs": [],
   "source": [
    "dist_coord = patch.get_coord(\"distance\")\n",
    "\n",
    "# Get the start, stop, step, and units of the distance coord\n",
    "dist_start = dist_coord.min()\n",
    "dist_stop = dist_coord.max()\n",
    "dist_step = dist_coord.step\n",
    "dist_units = dist_coord.units\n",
    "\n",
    "# Get the underlying array data in the coordinate.\n",
    "dist_array = dist_coord.values"
   ]
  },
  {
   "cell_type": "markdown",
   "id": "24",
   "metadata": {
    "editable": true,
    "slideshow": {
     "slide_type": ""
    },
    "tags": []
   },
   "source": [
    "Alternatively, [`Patch.get_array`](https://dascore.org/api/dascore/proc/coords/get_array.html) simply returns the numpy array of the coordinate. "
   ]
  },
  {
   "cell_type": "code",
   "execution_count": null,
   "id": "25",
   "metadata": {
    "editable": true,
    "slideshow": {
     "slide_type": ""
    },
    "tags": []
   },
   "outputs": [],
   "source": [
    "# The values of the distance dimension\n",
    "dist = patch.get_array(\"distance\")\n",
    "\n",
    "# The value of the time dimension using a numpy datetime64 array.\n",
    "time = patch.get_array(\"time\")\n",
    "\n",
    "# Convert the array to seconds from 1970 (floats)\n",
    "time_s = dc.to_float(time)\n",
    "# time_s = np.float(time)"
   ]
  },
  {
   "cell_type": "markdown",
   "id": "26",
   "metadata": {
    "editable": true,
    "slideshow": {
     "slide_type": ""
    },
    "tags": []
   },
   "source": [
    "Coordinates can be renamed using [`Patch.rename_coord`](https://dascore.org/api/dascore/proc/coords/rename_coords.html)"
   ]
  },
  {
   "cell_type": "code",
   "execution_count": null,
   "id": "27",
   "metadata": {
    "editable": true,
    "slideshow": {
     "slide_type": ""
    },
    "tags": []
   },
   "outputs": [],
   "source": [
    "patch_renamed_coords = patch.rename_coords(distance=\"depth\")\n",
    "print(patch_renamed_coords.dims)"
   ]
  },
  {
   "cell_type": "markdown",
   "id": "28",
   "metadata": {
    "editable": true,
    "slideshow": {
     "slide_type": ""
    },
    "tags": []
   },
   "source": [
    "Or updated using [`Patch.update_coords`](https://dascore.org/api/dascore/proc/coords/update_coords.html)"
   ]
  },
  {
   "cell_type": "code",
   "execution_count": null,
   "id": "29",
   "metadata": {
    "editable": true,
    "slideshow": {
     "slide_type": ""
    },
    "tags": []
   },
   "outputs": [],
   "source": [
    "from dascore.units import m\n",
    "\n",
    "# Add 12 m to the current distance values.\n",
    "dist = patch.get_array(\"distance\")\n",
    "patch_new_dist = patch.update_coords(distance=(dist + 12)*m)\n",
    "\n",
    "dist2 = patch_new_dist.get_coord(\"distance\")"
   ]
  },
  {
   "cell_type": "code",
   "execution_count": null,
   "id": "30",
   "metadata": {
    "editable": true,
    "slideshow": {
     "slide_type": ""
    },
    "tags": []
   },
   "outputs": [],
   "source": [
    "print(dist2)"
   ]
  },
  {
   "cell_type": "markdown",
   "id": "31",
   "metadata": {
    "editable": true,
    "slideshow": {
     "slide_type": ""
    },
    "tags": []
   },
   "source": [
    "### **Exercise** (`Patch` Coords)\n",
    "\n",
    "Calculate the and print following parameters:\n",
    "\n",
    "1. The duration (time) of the patch recording using the time coordinate.\n",
    "2. Reset the start of the time coordiante (e.g., 08:00, April 14, 2025).\n"
   ]
  },
  {
   "cell_type": "code",
   "execution_count": null,
   "id": "81a3ac1c-10d6-4d91-b153-a4733a341e88",
   "metadata": {},
   "outputs": [],
   "source": [
    "# Exercise (Patch Coords)\n"
   ]
  },
  {
   "cell_type": "markdown",
   "id": "33",
   "metadata": {
    "editable": true,
    "slideshow": {
     "slide_type": ""
    },
    "tags": []
   },
   "source": [
    "## `Patch` [Visualization](https://dascore.org/tutorial/visualization.html)\n",
    "DASCore provides visualization in the `patch.viz` namespace.\n"
   ]
  },
  {
   "cell_type": "code",
   "execution_count": null,
   "id": "34",
   "metadata": {
    "editable": true,
    "slideshow": {
     "slide_type": ""
    },
    "tags": []
   },
   "outputs": [],
   "source": [
    "# The classic waterfall plot\n",
    "patch.viz.waterfall();"
   ]
  },
  {
   "cell_type": "code",
   "execution_count": null,
   "id": "8fa851d7",
   "metadata": {},
   "outputs": [],
   "source": [
    "# Adjust the scale parameter to make the event more visible\n",
    "# Try different values to see what works best\n",
    "patch.viz.waterfall(scale=0.03);  # Smaller scale value increases contrast"
   ]
  },
  {
   "cell_type": "code",
   "execution_count": null,
   "id": "35",
   "metadata": {
    "editable": true,
    "slideshow": {
     "slide_type": ""
    },
    "tags": []
   },
   "outputs": [],
   "source": [
    "# A wiggle plot\n",
    "patch.viz.wiggle();"
   ]
  },
  {
   "cell_type": "code",
   "execution_count": null,
   "id": "0780388b",
   "metadata": {},
   "outputs": [],
   "source": [
    "# A wiggle plot\n",
    "patch.viz.wiggle(scale=0.1); # Smaller scale value increases contrast"
   ]
  },
  {
   "cell_type": "markdown",
   "id": "38",
   "metadata": {
    "editable": true,
    "slideshow": {
     "slide_type": ""
    },
    "tags": []
   },
   "source": [
    "## Trimming and sub-selection\n",
    "[`Patch.select`](https://dascore.org/api/dascore/core/spool/DataFrameSpool/select.html) is used to trim patches. For example, to zoom in on the down-going reflection in our example patch. "
   ]
  },
  {
   "cell_type": "code",
   "execution_count": null,
   "id": "39",
   "metadata": {
    "editable": true,
    "slideshow": {
     "slide_type": ""
    },
    "tags": []
   },
   "outputs": [],
   "source": [
    "trimmed = patch.select(time=(.16, .22), distance =(600,800))"
   ]
  },
  {
   "cell_type": "code",
   "execution_count": null,
   "id": "40",
   "metadata": {
    "editable": true,
    "slideshow": {
     "slide_type": ""
    },
    "tags": []
   },
   "outputs": [],
   "source": [
    "trimmed.viz.waterfall(scale=0.1);"
   ]
  },
  {
   "cell_type": "markdown",
   "id": "41",
   "metadata": {
    "editable": true,
    "slideshow": {
     "slide_type": ""
    },
    "tags": []
   },
   "source": [
    "Trimming can also be done via samples"
   ]
  },
  {
   "cell_type": "code",
   "execution_count": null,
   "id": "42",
   "metadata": {
    "editable": true,
    "slideshow": {
     "slide_type": ""
    },
    "tags": []
   },
   "outputs": [],
   "source": [
    "# Remove 20 samples from start and end of time dimension using samples=True\n",
    "trimmed_patch = patch.select(time=(20, -20), samples=True)\n",
    "trimmed_patch.viz.waterfall(scale=0.05);"
   ]
  },
  {
   "cell_type": "code",
   "execution_count": null,
   "id": "43",
   "metadata": {
    "editable": true,
    "slideshow": {
     "slide_type": ""
    },
    "tags": []
   },
   "outputs": [],
   "source": [
    "# Remove 0.02 seconds from start and 0.03 seconds from the end of patch using relative=True\n",
    "trimmed_patch = patch.select(time=(0.02, -0.03), relative=True)\n",
    "trimmed_patch.viz.waterfall(scale=0.1);"
   ]
  },
  {
   "cell_type": "markdown",
   "id": "44",
   "metadata": {
    "editable": true,
    "slideshow": {
     "slide_type": ""
    },
    "tags": []
   },
   "source": [
    "### **Exercise** (`Patch` Select)\n",
    "Remove the first 10 spatial channels then the last .05 seconds. "
   ]
  },
  {
   "cell_type": "code",
   "execution_count": null,
   "id": "9a935197-e439-4433-9858-e403aea8f9ac",
   "metadata": {},
   "outputs": [],
   "source": [
    "# Exercise (Patch Select)\n"
   ]
  },
  {
   "cell_type": "markdown",
   "id": "46",
   "metadata": {
    "editable": true,
    "slideshow": {
     "slide_type": ""
    },
    "tags": []
   },
   "source": [
    "## `Patch` [Processing](https://dascore.org/tutorial/processing.html)\n",
    "DASCore provides many [processing](https://dascore.org/api/dascore/proc.html) patch methods. This section will highlight a few of these.\n"
   ]
  },
  {
   "cell_type": "markdown",
   "id": "47",
   "metadata": {
    "editable": true,
    "slideshow": {
     "slide_type": ""
    },
    "tags": []
   },
   "source": [
    "### [Pass Filtering](https://dascore.org/api/dascore/proc/filter/pass_filter.html)\n",
    "The [`Patch.pass_filter`](https://dascore.org/api/dascore/proc/filter/pass_filter.html) method is used to apply bandpass, lowpass, and highpass SOS filters to the data along a specified dimension."
   ]
  },
  {
   "cell_type": "code",
   "execution_count": null,
   "id": "48",
   "metadata": {
    "editable": true,
    "slideshow": {
     "slide_type": ""
    },
    "tags": []
   },
   "outputs": [],
   "source": [
    "# apply a 100Hz to 300Hz highpass\n",
    "patch_bp = patch.pass_filter(time=(100, 300))  \n",
    "\n",
    "# apply a 300Hz lowpass\n",
    "patch_lp = patch.pass_filter(time=(..., 300))  \n",
    "\n",
    "# apply a 50Hz highpass\n",
    "patch_hp = patch.pass_filter(time=(50, ...))  "
   ]
  },
  {
   "cell_type": "markdown",
   "id": "9216428c-bb86-41da-8daf-0aad404b5869",
   "metadata": {},
   "source": [
    "### Units (time)"
   ]
  },
  {
   "cell_type": "code",
   "execution_count": null,
   "id": "5b34cdc1-8a0c-44f6-a7e0-e3be66563c67",
   "metadata": {},
   "outputs": [],
   "source": [
    "from dascore.units import Hz, s\n",
    "\n",
    "patch = dc.get_example_patch()\n",
    "\n",
    "# Band-pass filter between 10Hz and 40Hz\n",
    "patch_filt = patch.pass_filter(time=(10*Hz, 40*Hz))\n",
    "\n",
    "# Band-pass filter between 20s and 2s\n",
    "patch_filt = patch.pass_filter(time=(2*s, 20*s))"
   ]
  },
  {
   "cell_type": "markdown",
   "id": "634df683-bf22-4058-81c0-a6db633a1725",
   "metadata": {},
   "source": [
    "### [Frequency-wavenumber (F-K) filter](https://dascore.org/api/dascore/proc/filter/slope_filter.html) \n",
    "The [`Patch.slope_filter`](https://dascore.org/api/dascore/proc/filter/slope_filter.html) method is used as an F-K (frequency wavenumber) filter to attenuate energy with specified apparent velocities."
   ]
  },
  {
   "cell_type": "code",
   "execution_count": null,
   "id": "cee775cf-6edc-412b-b374-b4657951dd4d",
   "metadata": {},
   "outputs": [],
   "source": [
    "import matplotlib.pyplot as plt\n",
    "\n",
    "patch = dc.get_example_patch(\"example_event_1\")\n",
    "\n",
    "\n",
    "patch_slope_fil = (\n",
    "    patch.set_units(\"1/s\", distance=\"m\", time=\"s\")\n",
    "    .detrend(\"time\")\n",
    "    .taper(time=0.05)\n",
    "    .slope_filter(filt=[2e3,2.2e3,8e3,2e4],\n",
    "                directional=True,\n",
    "                notch=False)\n",
    ")\n",
    "\n",
    "fig, axs = plt.subplots(nrows=1, ncols=2, figsize=(12, 5))\n",
    "\n",
    "patch.viz.waterfall(ax=axs[0],scale=0.05);\n",
    "axs[0].set_title('Before F-K filter');\n",
    "\n",
    "patch_slope_fil.viz.waterfall(ax=axs[1],scale=0.05);\n",
    "axs[1].set_title('After F-K filter');"
   ]
  },
  {
   "cell_type": "markdown",
   "id": "49",
   "metadata": {
    "editable": true,
    "slideshow": {
     "slide_type": ""
    },
    "tags": []
   },
   "source": [
    "### **Exercise** (`Patch` processing 1)\n",
    "Plot each of the pass-filtered patches. Which filtering technique did the best at enhancing the event signal? "
   ]
  },
  {
   "cell_type": "code",
   "execution_count": null,
   "id": "49f0726d-f342-42bc-b559-e6a2741d56c1",
   "metadata": {},
   "outputs": [],
   "source": [
    "# Exercise (Patch processing 1)\n"
   ]
  },
  {
   "cell_type": "markdown",
   "id": "51",
   "metadata": {
    "editable": true,
    "slideshow": {
     "slide_type": ""
    },
    "tags": []
   },
   "source": [
    "### Decimate\n",
    "`decimate` reduces the number of samples in the specified dimension. By default, a lowpass filter is applied to avoid aliasing."
   ]
  },
  {
   "cell_type": "code",
   "execution_count": null,
   "id": "52",
   "metadata": {
    "editable": true,
    "slideshow": {
     "slide_type": ""
    },
    "tags": []
   },
   "outputs": [],
   "source": [
    "# keep every 10th sample along time axis\n",
    "patch_dec = patch.decimate(time=10)  "
   ]
  },
  {
   "cell_type": "markdown",
   "id": "53",
   "metadata": {
    "editable": true,
    "slideshow": {
     "slide_type": ""
    },
    "tags": []
   },
   "source": [
    "### Detrend\n",
    "\n",
    "`Patch.detrend` applies a linear detrend along a specified dimension (axis)."
   ]
  },
  {
   "cell_type": "code",
   "execution_count": null,
   "id": "54",
   "metadata": {},
   "outputs": [],
   "source": [
    "patch_detrended = patch.detrend(\"time\")"
   ]
  },
  {
   "cell_type": "markdown",
   "id": "55",
   "metadata": {
    "editable": true,
    "slideshow": {
     "slide_type": ""
    },
    "tags": []
   },
   "source": [
    "### Resample\n",
    "\n",
    "Like `decimate`, `resample` is used to change the sampling rate of the patch along a specific dimension. Unlike `decimate`, however, non-integar multiples can be used."
   ]
  },
  {
   "cell_type": "code",
   "execution_count": null,
   "id": "56",
   "metadata": {
    "editable": true,
    "slideshow": {
     "slide_type": ""
    },
    "tags": []
   },
   "outputs": [],
   "source": [
    "patch_resamp = patch.resample(distance=15)  # change spatial sampling to 15m"
   ]
  },
  {
   "cell_type": "markdown",
   "id": "75c1e412-5d90-4822-a8be-c3d9f932716f",
   "metadata": {},
   "source": [
    "### Processing methods are chained together"
   ]
  },
  {
   "cell_type": "code",
   "execution_count": null,
   "id": "eeb8e319-17ad-40ba-98d9-2bc62ae7a9b0",
   "metadata": {},
   "outputs": [],
   "source": [
    "patch = dc.get_example_patch(\"example_event_1\")\n",
    "\n",
    "patch_proc = (\n",
    "    patch.set_units(\"1/s\", distance=\"m\", time=\"s\")\n",
    "    .detrend(\"time\")\n",
    "    .taper(time=0.05)\n",
    "    .pass_filter(time=(..., 300))\n",
    ")\n"
   ]
  },
  {
   "cell_type": "markdown",
   "id": "e6050a7d-7cc2-4491-bc63-61b9f01ed041",
   "metadata": {},
   "source": [
    "### **Exercise** (`Patch` processing 2)\n",
    "\n",
    "Find some methods in the [processing module documentation](https://dascore.org/api/dascore/proc.html) and apply them to the event patch. Visualize the results. "
   ]
  },
  {
   "cell_type": "code",
   "execution_count": null,
   "id": "5892df68-6e68-4be8-b7eb-ec537c080a79",
   "metadata": {},
   "outputs": [],
   "source": [
    "# Exercise (Patch processing 2)\n"
   ]
  },
  {
   "cell_type": "markdown",
   "id": "58",
   "metadata": {},
   "source": [
    "### Aggregate\n",
    "[`Patch.aggregate`](https://dascore.org/api/dascore/proc/aggregate/aggregate.html) performs aggregations along specified dimension(s). Shortcuts for `min`, `max`, `mean`, etc. are also provided."
   ]
  },
  {
   "cell_type": "code",
   "execution_count": null,
   "id": "59",
   "metadata": {
    "editable": true,
    "slideshow": {
     "slide_type": ""
    },
    "tags": []
   },
   "outputs": [],
   "source": [
    "# Use aggregate and mean to calculate the same patch.\n",
    "mean_1 = patch.aggregate(\"time\", method=\"mean\")\n",
    "mean_2 = patch.mean(\"time\")"
   ]
  },
  {
   "cell_type": "code",
   "execution_count": null,
   "id": "60",
   "metadata": {},
   "outputs": [],
   "source": [
    "# Aggregate supports any tensor reduction operation. \n",
    "reduced = patch.aggregate(\"time\", np.sum)\n",
    "print(reduced)"
   ]
  },
  {
   "cell_type": "markdown",
   "id": "63",
   "metadata": {
    "editable": true,
    "slideshow": {
     "slide_type": ""
    },
    "tags": []
   },
   "source": [
    "## Patch [Transformations](https://dascore.org/tutorial/transformations.html)\n",
    "In addition to the processing methods, DASCore includes several patch [transformation methods](https://dascore.org/api/dascore/transform.html). This section shows some examples."
   ]
  },
  {
   "cell_type": "code",
   "execution_count": null,
   "id": "64",
   "metadata": {
    "editable": true,
    "slideshow": {
     "slide_type": ""
    },
    "tags": []
   },
   "outputs": [],
   "source": [
    "# Load a cleaned-up patch from the previous example.\n",
    "patch = dc.get_example_patch(\"example_event_2\")"
   ]
  },
  {
   "cell_type": "code",
   "execution_count": null,
   "id": "65",
   "metadata": {
    "editable": true,
    "slideshow": {
     "slide_type": ""
    },
    "tags": []
   },
   "outputs": [],
   "source": [
    "# Perform a Discrete Fourier Transform (DFT) along the time axis. \n",
    "patch_fft = patch.dft(\"time\", real=True)"
   ]
  },
  {
   "cell_type": "code",
   "execution_count": null,
   "id": "66",
   "metadata": {
    "editable": true,
    "slideshow": {
     "slide_type": ""
    },
    "tags": []
   },
   "outputs": [],
   "source": [
    "# Integrate along time domain\n",
    "patch_int = patch.integrate(\"time\")"
   ]
  },
  {
   "cell_type": "code",
   "execution_count": null,
   "id": "75496db9-077c-4fb7-83d3-355fb19607bb",
   "metadata": {},
   "outputs": [],
   "source": [
    "print(patch_fft), print(patch_int)"
   ]
  },
  {
   "cell_type": "markdown",
   "id": "67",
   "metadata": {
    "editable": true,
    "slideshow": {
     "slide_type": ""
    },
    "tags": []
   },
   "source": [
    "### **Exercise** (`Patch` Transformation)\n",
    "Do the following to the patch above:\n",
    "\n",
    "1. Perform a real discrete Fourier transform along the time axis\n",
    "2. Get the amplitude spectra\n",
    "3. Take the mean along the distance dimension\n",
    "4. Select frequencies (`ft_time` dimension) less than 500 Hz\n",
    "5. Plot using matplotlib and the `ft_time` dimension's values\n"
   ]
  },
  {
   "cell_type": "code",
   "execution_count": null,
   "id": "2527a02d-7f9f-4321-8a9c-427d68c1b52a",
   "metadata": {},
   "outputs": [],
   "source": [
    "# Exercise (Patch Transformation)\n"
   ]
  },
  {
   "cell_type": "markdown",
   "id": "69",
   "metadata": {},
   "source": [
    "## `Patch` [Conversion](https://dascore.org/recipes/external_conversion.html#obspy)\n",
    "\n",
    "Although DASCore provides a lot of the functionality needed for DFOS processing, is not intended to do absolutely everything, and some other libraries might be better suited for a particular task. In addition to making it simple to access the underlying data as shown in the [patch tutorial](https://dascore.org/tutorial/patch.html), DASCore provides convenience functions to convert data to formats used by other libraries. "
   ]
  },
  {
   "cell_type": "code",
   "execution_count": null,
   "id": "c145379b-5353-436d-98d5-9a43a2193c16",
   "metadata": {},
   "outputs": [],
   "source": [
    "\n",
    "patch = dc.get_example_patch(\"example_event_1\")\n",
    "\n",
    "stream = patch.io.to_obspy()"
   ]
  }
 ],
 "metadata": {
  "kernelspec": {
   "display_name": "Python 3 (ipykernel)",
   "language": "python",
   "name": "python3"
  },
  "language_info": {
   "codemirror_mode": {
    "name": "ipython",
    "version": 3
   },
   "file_extension": ".py",
   "mimetype": "text/x-python",
   "name": "python",
   "nbconvert_exporter": "python",
   "pygments_lexer": "ipython3",
   "version": "3.11.4"
  }
 },
 "nbformat": 4,
 "nbformat_minor": 5
}
