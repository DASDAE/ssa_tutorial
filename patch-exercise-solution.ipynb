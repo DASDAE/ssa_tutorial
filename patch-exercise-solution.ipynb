{
 "cells": [
  {
   "cell_type": "markdown",
   "id": "0",
   "metadata": {
    "editable": true,
    "slideshow": {
     "slide_type": ""
    },
    "tags": []
   },
   "source": [
    "# Patch Basics - Exercise and solution\n",
    "\n",
    "April 14, 2025\n"
   ]
  },
  {
   "cell_type": "code",
   "execution_count": null,
   "id": "1",
   "metadata": {
    "editable": true,
    "slideshow": {
     "slide_type": ""
    },
    "tags": []
   },
   "outputs": [],
   "source": [
    "%%capture\n",
    "\n",
    "# First ensure DASCore is installed. If not, install and restart the kernel.\n",
    "try:\n",
    "    import dascore as dc\n",
    "except ImportError:\n",
    "    !pip install dascore\n",
    "    !pip install ipympl\n",
    "    # resetart kernel\n",
    "    import IPython\n",
    "    IPython.Application.instance().kernel.do_shutdown(True) #automatically restarts kernel\n",
    "\n",
    "\n",
    "import numpy as np\n",
    "from rich import print\n"
   ]
  },
  {
   "cell_type": "markdown",
   "id": "11",
   "metadata": {
    "editable": true,
    "slideshow": {
     "slide_type": ""
    },
    "tags": []
   },
   "source": [
    "### **Exercise** (`Patch` Data)\n",
    "\n",
    "Calculate and print following:\n",
    "\n",
    "1. The number of samples in the data\n",
    "2. The minimum and maximum value of the data"
   ]
  },
  {
   "cell_type": "code",
   "execution_count": null,
   "id": "12",
   "metadata": {
    "editable": true,
    "slideshow": {
     "slide_type": ""
    },
    "tags": []
   },
   "outputs": [],
   "source": [
    "# The get_example_patch function is useful for loading example/test patches.\n",
    "patch = dc.get_example_patch(\"example_event_1\")\n",
    "\n",
    "# The number of samples in the data\n",
    "num_samples = patch.data.size\n",
    "print(f\"Number of samples: {num_samples}\")\n",
    "\n",
    "# The minimum and maximum value of the data\n",
    "min_val = patch.data.min()\n",
    "max_val = patch.data.max()\n",
    "print(f\"Minimum value: {min_val}\")\n",
    "print(f\"Maximum value: {max_val}\")"
   ]
  },
  {
   "cell_type": "markdown",
   "id": "18",
   "metadata": {
    "editable": true,
    "slideshow": {
     "slide_type": ""
    },
    "tags": []
   },
   "source": [
    "### **Exercise** (`Patch` Attrs)\n",
    "Do the following:\n",
    "\n",
    "1. Print the `cable_id` from the patch with updated attrs.\n",
    "2. Create a new patch with a `station name` of \"DAS1\"."
   ]
  },
  {
   "cell_type": "code",
   "execution_count": null,
   "id": "19",
   "metadata": {
    "editable": true,
    "slideshow": {
     "slide_type": ""
    },
    "tags": []
   },
   "outputs": [],
   "source": [
    "patch_updated_attrs = patch.update_attrs(\n",
    "    acquisition_id=\"experiment_12\",\n",
    "    cable_id=\"b202393ad\",\n",
    ")\n",
    "\n",
    "# 1. Print the cable_id from the patch with updated attrs\n",
    "print(f\"Cable ID: {patch_updated_attrs.attrs['cable_id']}\")\n",
    "\n",
    "# 2. Create a new patch with a station name of \"DAS1\"\n",
    "patch_with_station = patch.update_attrs(station_name=\"DAS1\")\n",
    "print(patch_with_station.attrs)"
   ]
  },
  {
   "cell_type": "markdown",
   "id": "31",
   "metadata": {
    "editable": true,
    "slideshow": {
     "slide_type": ""
    },
    "tags": []
   },
   "source": [
    "### **Exercise** (`Patch` Coords)\n",
    "\n",
    "Calculate the and print following parameters:\n",
    "\n",
    "1. The duration (time) of the patch recording using the time coordinate.\n",
    "2. Reset the start of the time coordiante (e.g., 08:00, April 14, 2025).\n"
   ]
  },
  {
   "cell_type": "code",
   "execution_count": null,
   "id": "32",
   "metadata": {
    "editable": true,
    "slideshow": {
     "slide_type": ""
    },
    "tags": []
   },
   "outputs": [],
   "source": [
    "import numpy as np\n",
    "from datetime import datetime\n",
    "\n",
    "# The get_example_patch function is useful for loading example/test patches.\n",
    "patch = dc.get_example_patch(\"example_event_1\")\n",
    "\n",
    "# 1. Calculate the duration of the patch recording\n",
    "time_coord = patch.get_coord(\"time\")\n",
    "time_start = time_coord.min()\n",
    "time_end = time_coord.max()\n",
    "duration = time_end - time_start\n",
    "print(f\"Duration: {duration}\")\n",
    "\n",
    "# 2. Reset the start of the time coordiante (e.g., 08:00, April 14, 2025)\n",
    "\n",
    "# New start time\n",
    "new_start = np.datetime64('2025-04-14T08:00:00')\n",
    "current_time = patch.get_array(\"time\")\n",
    "\n",
    "# Calculate time differences from start\n",
    "time_delta = current_time - current_time[0] \n",
    "\n",
    "# Add to new start time\n",
    "new_time = new_start + time_delta  \n",
    "\n",
    "# Create new patch with updated time coordinate\n",
    "patch_new = patch.update_coords(time=new_time)\n",
    "\n",
    "print(f\"New time range: {patch_new.get_coord('time').min()} to {patch_new.get_coord('time').max()}\")"
   ]
  },
  {
   "cell_type": "markdown",
   "id": "44",
   "metadata": {
    "editable": true,
    "slideshow": {
     "slide_type": ""
    },
    "tags": []
   },
   "source": [
    "### **Exercise** (`Patch` Select)\n",
    "Remove the first 10 spatial channels then the last .05 seconds. "
   ]
  },
  {
   "cell_type": "code",
   "execution_count": null,
   "id": "45",
   "metadata": {
    "editable": true,
    "slideshow": {
     "slide_type": ""
    },
    "tags": []
   },
   "outputs": [],
   "source": [
    "# The get_example_patch function is useful for loading example/test patches.\n",
    "patch = dc.get_example_patch(\"example_event_1\")\n",
    "\n",
    "# First, remove the first 10 spatial channels\n",
    "patch_trimmed_distance = patch.select(distance=(10, None), samples=True)\n",
    "\n",
    "# Then, remove the last 0.05 seconds\n",
    "patch_final_trim = patch_trimmed_distance.select(time=(None, -0.05), relative=True)\n",
    "\n",
    "# Verify the trimming worked\n",
    "print(f\"Original patch shape: {patch.data.shape}\")\n",
    "print(f\"Trimmed patch shape: {patch_final_trim.data.shape}\")\n"
   ]
  },
  {
   "cell_type": "markdown",
   "id": "49",
   "metadata": {
    "editable": true,
    "slideshow": {
     "slide_type": ""
    },
    "tags": []
   },
   "source": [
    "### **Exercise** (`Patch` Processing 1)\n",
    "Plot each of the filtered patches above. Which filtering technique did the best at accentuating the event signal? "
   ]
  },
  {
   "cell_type": "code",
   "execution_count": null,
   "id": "50",
   "metadata": {
    "editable": true,
    "slideshow": {
     "slide_type": ""
    },
    "tags": []
   },
   "outputs": [],
   "source": [
    "import matplotlib.pyplot as plt\n",
    "from matplotlib.gridspec import GridSpec\n",
    "\n",
    "# The get_example_patch function is useful for loading example/test patches.\n",
    "patch = dc.get_example_patch(\"example_event_1\")\n",
    "\n",
    "patch_bp = patch.pass_filter(time=(100, 300))  # apply a 100Hz to 300Hz highpass\n",
    "patch_lp = patch.pass_filter(time=(..., 300))  # apply a 300Hz lowpass\n",
    "patch_hp = patch.pass_filter(time=(50, ...))  # apply a 50Hz highpass\n",
    "\n",
    "# Create a figure with 3 subplots\n",
    "fig = plt.figure(figsize=(10, 16))\n",
    "gs = GridSpec(3, 1, figure=fig)\n",
    "\n",
    "# Plot the bandpass filtered patch\n",
    "ax1 = fig.add_subplot(gs[0, 0])\n",
    "patch_bp.viz.waterfall(ax=ax1, scale=0.1)\n",
    "ax1.set_title('Bandpass Filter (100-300 Hz)')\n",
    "\n",
    "# Plot the lowpass filtered patch\n",
    "ax2 = fig.add_subplot(gs[1, 0])\n",
    "patch_lp.viz.waterfall(ax=ax2, scale=0.1)\n",
    "ax2.set_title('Lowpass Filter (<300 Hz)')\n",
    "\n",
    "# Plot the highpass filtered patch\n",
    "ax3 = fig.add_subplot(gs[2, 0])\n",
    "patch_hp.viz.waterfall(ax=ax3, scale=0.1)\n",
    "ax3.set_title('Highpass Filter (>50 Hz)')\n",
    "\n",
    "plt.tight_layout()\n",
    "plt.show()"
   ]
  },
  {
   "cell_type": "markdown",
   "id": "a6ef6716-d908-4743-988d-53e802127799",
   "metadata": {},
   "source": [
    "### **Exercise** (`Patch` Processing 2)\n",
    "\n",
    "Find some methods in the [processing module documentation](https://dascore.org/api/dascore/proc.html) and apply them to the event patch. Visualize the results. "
   ]
  },
  {
   "cell_type": "code",
   "execution_count": null,
   "id": "fa589d9c-858a-43b5-8a9a-d383aa09b4a6",
   "metadata": {},
   "outputs": [],
   "source": [
    "# The get_example_patch function is useful for loading example/test patches.\n",
    "patch = dc.get_example_patch(\"example_event_1\")\n",
    "\n",
    "# 1. Try the normalize method to normalize trace amplitudes\n",
    "patch_norm = patch.normalize(\"time\",norm='max')\n",
    "\n",
    "# 2. Try the taper method to apply a taper to the edges\n",
    "# Apply an Hanning taper to 5% of each end for time dimension.\n",
    "patch_taper1 = patch.taper(time=0.05, window_type=\"hann\")\n",
    "# Apply a triangular taper to 10% of the start of the distance dimension.\n",
    "patch_taper2 = patch.taper(distance=(0.10, None), window_type='triang')\n",
    "\n",
    "# 3. Try the differentiate method (velocity to acceleration)\n",
    "patch_diff = patch.differentiate(\"time\")\n",
    "\n",
    "# Visualize the results\n",
    "fig = plt.figure(figsize=(10, 16))\n",
    "gs = GridSpec(3, 1, figure=fig)\n",
    "\n",
    "# Plot normalized patch\n",
    "ax1 = fig.add_subplot(gs[0, 0])\n",
    "patch_norm.viz.waterfall(ax=ax1, scale=1)\n",
    "ax1.set_title('Normalized Patch')\n",
    "\n",
    "# Plot tapered patch\n",
    "ax2 = fig.add_subplot(gs[1, 0])\n",
    "patch_taper1.viz.waterfall(ax=ax2, scale=0.1)\n",
    "ax2.set_title('Tapered Patch')\n",
    "\n",
    "# Plot differentiated patch\n",
    "ax3 = fig.add_subplot(gs[2, 0])\n",
    "patch_diff.viz.waterfall(ax=ax3, scale=0.1)\n",
    "ax3.set_title('Differentiated Patch')\n",
    "\n",
    "plt.tight_layout()\n",
    "plt.show()"
   ]
  },
  {
   "cell_type": "markdown",
   "id": "67",
   "metadata": {
    "editable": true,
    "slideshow": {
     "slide_type": ""
    },
    "tags": []
   },
   "source": [
    "### **Exercise** (`Patch` Transformation)\n",
    "Do the following to the patch above:\n",
    "\n",
    "1. Perform a real discrete Fourier transform along the time axis\n",
    "2. Get the amplitude spectra\n",
    "3. Take the mean along the distance dimension\n",
    "4. Select frequencies (`ft_time` dimension) less than 500 Hz\n",
    "5. Plot using matplotlib and the `ft_time` dimension's values\n"
   ]
  },
  {
   "cell_type": "code",
   "execution_count": null,
   "id": "68",
   "metadata": {},
   "outputs": [],
   "source": [
    "import matplotlib.pyplot as plt\n",
    "\n",
    "# The get_example_patch function is useful for loading example/test patches.\n",
    "patch = dc.get_example_patch(\"example_event_1\")\n",
    "\n",
    "\n",
    "# 1. Perform a real discrete Fourier transform along the time axis\n",
    "fft_patch = patch.dft(\"time\", real=True)\n",
    "\n",
    "# 2. Get the amplitude spectra\n",
    "amp_spectra = fft_patch.abs()\n",
    "\n",
    "# 3. Take the mean along the distance dimension\n",
    "mean_spectra = amp_spectra.mean(\"distance\")\n",
    "\n",
    "# 4. Select frequencies less than 500 Hz\n",
    "low_freq_spectra = mean_spectra.select(ft_time=(0, 500))\n",
    "\n",
    "# 5. Plot using matplotlib\n",
    "plt.figure(figsize=(10, 6))\n",
    "freq = low_freq_spectra.get_array(\"ft_time\")\n",
    "\n",
    "# We need to squeeze/flatten the array to make it 1D for plotting\n",
    "data_to_plot = low_freq_spectra.data.squeeze()  # Remove singleton dimensions\n",
    "\n",
    "plt.plot(freq, data_to_plot)\n",
    "plt.xlabel('Frequency (Hz)')\n",
    "plt.ylabel('Amplitude')\n",
    "plt.title('Mean Amplitude Spectrum (<500 Hz)')\n",
    "plt.grid(linewidth=0.5,linestyle='dashed')\n",
    "plt.show()"
   ]
  },
  {
   "cell_type": "code",
   "execution_count": null,
   "id": "c30fbde4-805e-41df-8ba6-429bf4734901",
   "metadata": {},
   "outputs": [],
   "source": []
  }
 ],
 "metadata": {
  "kernelspec": {
   "display_name": "Python 3 (ipykernel)",
   "language": "python",
   "name": "python3"
  },
  "language_info": {
   "codemirror_mode": {
    "name": "ipython",
    "version": 3
   },
   "file_extension": ".py",
   "mimetype": "text/x-python",
   "name": "python",
   "nbconvert_exporter": "python",
   "pygments_lexer": "ipython3",
   "version": "3.11.4"
  }
 },
 "nbformat": 4,
 "nbformat_minor": 5
}
